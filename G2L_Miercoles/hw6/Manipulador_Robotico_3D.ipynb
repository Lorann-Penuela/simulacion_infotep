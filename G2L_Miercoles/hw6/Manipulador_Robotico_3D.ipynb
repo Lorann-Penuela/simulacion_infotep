{
  "cells": [
    {
      "cell_type": "markdown",
      "id": "db34594a",
      "metadata": {
        "id": "db34594a"
      },
      "source": [
        "# **Manipulador robótico con 3 grados de libertad**\n",
        "\n",
        "*   List item\n",
        "*   List item\n",
        "\n"
      ]
    },
    {
      "cell_type": "markdown",
      "id": "5dc37067",
      "metadata": {
        "id": "5dc37067"
      },
      "source": [
        "**Docente:** PhD Jorge Rudas\n",
        "\n",
        "**Diseño de prototipos - 2025 I**\n",
        "\n",
        "**INFOTEP**"
      ]
    },
    {
      "cell_type": "code",
      "execution_count": 71,
      "id": "4abd0bcb",
      "metadata": {
        "id": "4abd0bcb"
      },
      "outputs": [],
      "source": [
        "import numpy as np\n",
        "from sympy import*\n",
        "from IPython.display import Image\n",
        "\n",
        "init_printing()"
      ]
    },
    {
      "cell_type": "code",
      "execution_count": 72,
      "id": "a002bab8",
      "metadata": {
        "colab": {
          "resources": {
            "http://localhost:8080/content/3.png": {
              "data": "",
              "ok": false,
              "headers": [
                [
                  "content-length",
                  "0"
                ]
              ],
              "status": 404,
              "status_text": ""
            }
          },
          "base_uri": "https://localhost:8080/",
          "height": 37
        },
        "id": "a002bab8",
        "outputId": "dd2ada47-cace-45eb-d6d1-fe72f128b53f"
      },
      "outputs": [
        {
          "output_type": "execute_result",
          "data": {
            "text/html": [
              "<img src=\"/content/3.png\"/>"
            ],
            "text/plain": [
              "<IPython.core.display.Image object>"
            ]
          },
          "metadata": {},
          "execution_count": 72
        }
      ],
      "source": [
        "Image(url='/content/3.png')"
      ]
    },
    {
      "cell_type": "code",
      "execution_count": 73,
      "id": "bd6b3775",
      "metadata": {
        "colab": {
          "resources": {
            "http://localhost:8080/4.png": {
              "data": "",
              "ok": false,
              "headers": [
                [
                  "content-length",
                  "0"
                ]
              ],
              "status": 404,
              "status_text": ""
            }
          },
          "base_uri": "https://localhost:8080/",
          "height": 37
        },
        "id": "bd6b3775",
        "outputId": "ee50ab42-6781-425f-b3f4-b88cd3cab988"
      },
      "outputs": [
        {
          "output_type": "execute_result",
          "data": {
            "text/html": [
              "<img src=\"4.png\"/>"
            ],
            "text/plain": [
              "<IPython.core.display.Image object>"
            ]
          },
          "metadata": {},
          "execution_count": 73
        }
      ],
      "source": [
        "Image(url='4.png')"
      ]
    },
    {
      "cell_type": "markdown",
      "id": "6d912065",
      "metadata": {
        "id": "6d912065"
      },
      "source": [
        "Vamos a descrbir el algebra simula la dinámica directa del anterior brazo robótico"
      ]
    },
    {
      "cell_type": "code",
      "execution_count": 74,
      "id": "9b2cc4fb",
      "metadata": {
        "id": "9b2cc4fb"
      },
      "outputs": [],
      "source": [
        "## Variables Simbolicas\n",
        "theta_1 = symbols(\"theta_1\",  real=True)\n",
        "theta_2 = symbols(\"theta_2\",  real=True)\n",
        "theta_3 = symbols(\"theta_3\",  real=True)\n",
        "alpha = symbols(\"alpha\",  real=True)\n",
        "\n",
        "l_1 = symbols(\"l_1\",  real=True)\n",
        "l_2 = symbols(\"l_2\",  real=True)\n",
        "l_3 = symbols(\"l_3\",  real=True)"
      ]
    },
    {
      "cell_type": "markdown",
      "id": "c7af93dd",
      "metadata": {
        "id": "c7af93dd"
      },
      "source": [
        "Rotación de la base (articulación 1) un angulo theta zobre el eje z"
      ]
    },
    {
      "cell_type": "code",
      "execution_count": 75,
      "id": "f09d219a",
      "metadata": {
        "colab": {
          "base_uri": "https://localhost:8080/",
          "height": 98
        },
        "id": "f09d219a",
        "outputId": "d5381d31-9dd0-479b-beca-e0aaa4a53331"
      },
      "outputs": [
        {
          "output_type": "execute_result",
          "data": {
            "text/plain": [
              "⎡cos(θ₁)  -sin(θ₁)  0  0⎤\n",
              "⎢                       ⎥\n",
              "⎢sin(θ₁)  cos(θ₁)   0  0⎥\n",
              "⎢                       ⎥\n",
              "⎢   0        0      1  0⎥\n",
              "⎢                       ⎥\n",
              "⎣   0        0      0  1⎦"
            ],
            "text/latex": "$\\displaystyle \\left[\\begin{matrix}\\cos{\\left(\\theta_{1} \\right)} & - \\sin{\\left(\\theta_{1} \\right)} & 0 & 0\\\\\\sin{\\left(\\theta_{1} \\right)} & \\cos{\\left(\\theta_{1} \\right)} & 0 & 0\\\\0 & 0 & 1 & 0\\\\0 & 0 & 0 & 1\\end{matrix}\\right]$"
          },
          "metadata": {},
          "execution_count": 75
        }
      ],
      "source": [
        "_0H1 = Matrix([[cos(theta_1), -sin(theta_1), 0, 0], [sin(theta_1), cos(theta_1), 0, 0], [0, 0, 1, 0], [0, 0, 0, 1]])\n",
        "_0H1\n"
      ]
    },
    {
      "cell_type": "markdown",
      "id": "b4a75136",
      "metadata": {
        "id": "b4a75136"
      },
      "source": [
        "Translación l_1 sobre el eje z desde la base hasta la articulación 2\n",
        "\n",
        "---\n",
        "\n"
      ]
    },
    {
      "cell_type": "code",
      "execution_count": 76,
      "id": "d15e78ec",
      "metadata": {
        "colab": {
          "base_uri": "https://localhost:8080/",
          "height": 98
        },
        "id": "d15e78ec",
        "outputId": "f036938b-96e1-460f-bdda-6380b53d3d29"
      },
      "outputs": [
        {
          "output_type": "execute_result",
          "data": {
            "text/plain": [
              "⎡1  0  0  0 ⎤\n",
              "⎢           ⎥\n",
              "⎢0  1  0  0 ⎥\n",
              "⎢           ⎥\n",
              "⎢0  0  1  l₁⎥\n",
              "⎢           ⎥\n",
              "⎣0  0  0  1 ⎦"
            ],
            "text/latex": "$\\displaystyle \\left[\\begin{matrix}1 & 0 & 0 & 0\\\\0 & 1 & 0 & 0\\\\0 & 0 & 1 & l_{1}\\\\0 & 0 & 0 & 1\\end{matrix}\\right]$"
          },
          "metadata": {},
          "execution_count": 76
        }
      ],
      "source": [
        "_1H2 = Matrix([[1, 0, 0, 0], [0, 1, 0, 0], [0, 0, 1, l_1], [0, 0, 0, 1]])\n",
        "_1H2\n"
      ]
    },
    {
      "cell_type": "markdown",
      "id": "f4a4b280",
      "metadata": {
        "id": "f4a4b280"
      },
      "source": [
        "Rotación del sistema de referencia (90 grados sobre el eje X)"
      ]
    },
    {
      "cell_type": "code",
      "execution_count": 77,
      "id": "da4ab434",
      "metadata": {
        "colab": {
          "base_uri": "https://localhost:8080/",
          "height": 98
        },
        "id": "da4ab434",
        "outputId": "be79a0e8-eb17-4ede-a21e-2263e971a3b5"
      },
      "outputs": [
        {
          "output_type": "execute_result",
          "data": {
            "text/plain": [
              "⎡1    0        0     0⎤\n",
              "⎢                     ⎥\n",
              "⎢0  cos(α)  -sin(α)  0⎥\n",
              "⎢                     ⎥\n",
              "⎢0  sin(α)  cos(α)   0⎥\n",
              "⎢                     ⎥\n",
              "⎣0    0        0     1⎦"
            ],
            "text/latex": "$\\displaystyle \\left[\\begin{matrix}1 & 0 & 0 & 0\\\\0 & \\cos{\\left(\\alpha \\right)} & - \\sin{\\left(\\alpha \\right)} & 0\\\\0 & \\sin{\\left(\\alpha \\right)} & \\cos{\\left(\\alpha \\right)} & 0\\\\0 & 0 & 0 & 1\\end{matrix}\\right]$"
          },
          "metadata": {},
          "execution_count": 77
        }
      ],
      "source": [
        "_2H3 = Matrix([[1, 0, 0, 0], [0, cos(alpha), -sin(alpha), 0], [0, sin(alpha), cos(alpha), 0], [0, 0, 0, 1]])\n",
        "_2H3"
      ]
    },
    {
      "cell_type": "code",
      "execution_count": 78,
      "id": "f71273a3",
      "metadata": {
        "colab": {
          "base_uri": "https://localhost:8080/",
          "height": 98
        },
        "id": "f71273a3",
        "outputId": "2c3c2cd2-97c1-4c4d-bd0e-b28e6cba3c33"
      },
      "outputs": [
        {
          "output_type": "execute_result",
          "data": {
            "text/plain": [
              "⎡1  0  0   0⎤\n",
              "⎢           ⎥\n",
              "⎢0  0  -1  0⎥\n",
              "⎢           ⎥\n",
              "⎢0  1  0   0⎥\n",
              "⎢           ⎥\n",
              "⎣0  0  0   1⎦"
            ],
            "text/latex": "$\\displaystyle \\left[\\begin{matrix}1 & 0 & 0 & 0\\\\0 & 0 & -1 & 0\\\\0 & 1 & 0 & 0\\\\0 & 0 & 0 & 1\\end{matrix}\\right]$"
          },
          "metadata": {},
          "execution_count": 78
        }
      ],
      "source": [
        "_2H3 = _2H3.subs(alpha, pi/2)\n",
        "_2H3"
      ]
    },
    {
      "cell_type": "markdown",
      "id": "b1beaa10",
      "metadata": {
        "id": "b1beaa10"
      },
      "source": [
        "Rotación theta_2 sobre el nuevo eje Z en la articulación 2"
      ]
    },
    {
      "cell_type": "code",
      "execution_count": 79,
      "id": "48da4464",
      "metadata": {
        "colab": {
          "base_uri": "https://localhost:8080/",
          "height": 98
        },
        "id": "48da4464",
        "outputId": "8ef03c38-73fe-4ec0-89e4-9d2b2bc852e9"
      },
      "outputs": [
        {
          "output_type": "execute_result",
          "data": {
            "text/plain": [
              "⎡cos(θ₂)  -sin(θ₂)  0  0⎤\n",
              "⎢                       ⎥\n",
              "⎢sin(θ₂)  cos(θ₂)   0  0⎥\n",
              "⎢                       ⎥\n",
              "⎢   0        0      1  0⎥\n",
              "⎢                       ⎥\n",
              "⎣   0        0      0  1⎦"
            ],
            "text/latex": "$\\displaystyle \\left[\\begin{matrix}\\cos{\\left(\\theta_{2} \\right)} & - \\sin{\\left(\\theta_{2} \\right)} & 0 & 0\\\\\\sin{\\left(\\theta_{2} \\right)} & \\cos{\\left(\\theta_{2} \\right)} & 0 & 0\\\\0 & 0 & 1 & 0\\\\0 & 0 & 0 & 1\\end{matrix}\\right]$"
          },
          "metadata": {},
          "execution_count": 79
        }
      ],
      "source": [
        "_3H4 = Matrix([[cos(theta_2), -sin(theta_2), 0, 0], [sin(theta_2), cos(theta_2), 0, 0], [0, 0, 1, 0], [0, 0, 0, 1]])\n",
        "_3H4\n"
      ]
    },
    {
      "cell_type": "markdown",
      "id": "ab8392f6",
      "metadata": {
        "id": "ab8392f6"
      },
      "source": [
        "Translación l_2 sobre el nuevo eje X desde la articulación 2 hasta la articulación 3"
      ]
    },
    {
      "cell_type": "code",
      "execution_count": 80,
      "id": "b8142302",
      "metadata": {
        "colab": {
          "base_uri": "https://localhost:8080/",
          "height": 98
        },
        "id": "b8142302",
        "outputId": "7c6506da-d54f-4844-db8e-6ce6ca2275ef"
      },
      "outputs": [
        {
          "output_type": "execute_result",
          "data": {
            "text/plain": [
              "⎡1  0  0  l₂⎤\n",
              "⎢           ⎥\n",
              "⎢0  1  0  0 ⎥\n",
              "⎢           ⎥\n",
              "⎢0  0  1  0 ⎥\n",
              "⎢           ⎥\n",
              "⎣0  0  0  1 ⎦"
            ],
            "text/latex": "$\\displaystyle \\left[\\begin{matrix}1 & 0 & 0 & l_{2}\\\\0 & 1 & 0 & 0\\\\0 & 0 & 1 & 0\\\\0 & 0 & 0 & 1\\end{matrix}\\right]$"
          },
          "metadata": {},
          "execution_count": 80
        }
      ],
      "source": [
        "_4H5 = Matrix([[1, 0, 0, l_2], [0, 1, 0, 0], [0, 0, 1, 0], [0, 0, 0, 1]])\n",
        "_4H5\n"
      ]
    },
    {
      "cell_type": "markdown",
      "id": "ddeaca3d",
      "metadata": {
        "id": "ddeaca3d"
      },
      "source": [
        "Rotación theta_3 sobre el nuevo eje Z para la articulación 3"
      ]
    },
    {
      "cell_type": "code",
      "execution_count": 81,
      "id": "2509ec7e",
      "metadata": {
        "colab": {
          "base_uri": "https://localhost:8080/",
          "height": 98
        },
        "id": "2509ec7e",
        "outputId": "f5ec4a43-334e-4186-ad7c-f6627b969497"
      },
      "outputs": [
        {
          "output_type": "execute_result",
          "data": {
            "text/plain": [
              "⎡cos(θ₃)  -sin(θ₃)  0  0⎤\n",
              "⎢                       ⎥\n",
              "⎢sin(θ₃)  cos(θ₃)   0  0⎥\n",
              "⎢                       ⎥\n",
              "⎢   0        0      1  0⎥\n",
              "⎢                       ⎥\n",
              "⎣   0        0      0  1⎦"
            ],
            "text/latex": "$\\displaystyle \\left[\\begin{matrix}\\cos{\\left(\\theta_{3} \\right)} & - \\sin{\\left(\\theta_{3} \\right)} & 0 & 0\\\\\\sin{\\left(\\theta_{3} \\right)} & \\cos{\\left(\\theta_{3} \\right)} & 0 & 0\\\\0 & 0 & 1 & 0\\\\0 & 0 & 0 & 1\\end{matrix}\\right]$"
          },
          "metadata": {},
          "execution_count": 81
        }
      ],
      "source": [
        "_5H6 = Matrix([[cos(theta_3), -sin(theta_3), 0, 0], [sin(theta_3), cos(theta_3), 0, 0], [0, 0, 1, 0], [0, 0, 0, 1]])\n",
        "_5H6\n"
      ]
    },
    {
      "cell_type": "markdown",
      "id": "3f690c6f",
      "metadata": {
        "id": "3f690c6f"
      },
      "source": [
        "Traslación l_3 desde la articulación 3 hasta el efector final (muñeca)"
      ]
    },
    {
      "cell_type": "code",
      "execution_count": 82,
      "id": "421b9c6e",
      "metadata": {
        "colab": {
          "base_uri": "https://localhost:8080/",
          "height": 98
        },
        "id": "421b9c6e",
        "outputId": "067d2797-0d7a-4101-b181-aecc6df6a0b4"
      },
      "outputs": [
        {
          "output_type": "execute_result",
          "data": {
            "text/plain": [
              "⎡1  0  0  l₃⎤\n",
              "⎢           ⎥\n",
              "⎢0  1  0  0 ⎥\n",
              "⎢           ⎥\n",
              "⎢0  0  1  0 ⎥\n",
              "⎢           ⎥\n",
              "⎣0  0  0  1 ⎦"
            ],
            "text/latex": "$\\displaystyle \\left[\\begin{matrix}1 & 0 & 0 & l_{3}\\\\0 & 1 & 0 & 0\\\\0 & 0 & 1 & 0\\\\0 & 0 & 0 & 1\\end{matrix}\\right]$"
          },
          "metadata": {},
          "execution_count": 82
        }
      ],
      "source": [
        "_6H7 = Matrix([[1, 0, 0, l_3], [0, 1, 0, 0], [0, 0, 1, 0], [0, 0, 0, 1]])\n",
        "_6H7"
      ]
    },
    {
      "cell_type": "markdown",
      "id": "bd23ab63",
      "metadata": {
        "id": "bd23ab63"
      },
      "source": [
        "Para encontrar la posición y la orientación del sistema de referencia W3 respecto a W0 se puede realizar la composición de las transformaciones de cada estado, así:"
      ]
    },
    {
      "cell_type": "code",
      "execution_count": 83,
      "id": "00f6459b",
      "metadata": {
        "colab": {
          "base_uri": "https://localhost:8080/",
          "height": 98
        },
        "id": "00f6459b",
        "outputId": "2484cb89-0514-4da1-f021-61dd3557c2bd"
      },
      "outputs": [
        {
          "output_type": "execute_result",
          "data": {
            "text/plain": [
              "⎡cos(θ₁)⋅cos(θ₂ + θ₃)  -sin(θ₂ + θ₃)⋅cos(θ₁)  sin(θ₁)   (l₂⋅cos(θ₂) + l₃⋅cos(θ₂ + θ₃))⋅cos(θ₁)⎤\n",
              "⎢                                                                                             ⎥\n",
              "⎢sin(θ₁)⋅cos(θ₂ + θ₃)  -sin(θ₁)⋅sin(θ₂ + θ₃)  -cos(θ₁)  (l₂⋅cos(θ₂) + l₃⋅cos(θ₂ + θ₃))⋅sin(θ₁)⎥\n",
              "⎢                                                                                             ⎥\n",
              "⎢    sin(θ₂ + θ₃)          cos(θ₂ + θ₃)          0        l₁ + l₂⋅sin(θ₂) + l₃⋅sin(θ₂ + θ₃)   ⎥\n",
              "⎢                                                                                             ⎥\n",
              "⎣         0                      0               0                        1                   ⎦"
            ],
            "text/latex": "$\\displaystyle \\left[\\begin{matrix}\\cos{\\left(\\theta_{1} \\right)} \\cos{\\left(\\theta_{2} + \\theta_{3} \\right)} & - \\sin{\\left(\\theta_{2} + \\theta_{3} \\right)} \\cos{\\left(\\theta_{1} \\right)} & \\sin{\\left(\\theta_{1} \\right)} & \\left(l_{2} \\cos{\\left(\\theta_{2} \\right)} + l_{3} \\cos{\\left(\\theta_{2} + \\theta_{3} \\right)}\\right) \\cos{\\left(\\theta_{1} \\right)}\\\\\\sin{\\left(\\theta_{1} \\right)} \\cos{\\left(\\theta_{2} + \\theta_{3} \\right)} & - \\sin{\\left(\\theta_{1} \\right)} \\sin{\\left(\\theta_{2} + \\theta_{3} \\right)} & - \\cos{\\left(\\theta_{1} \\right)} & \\left(l_{2} \\cos{\\left(\\theta_{2} \\right)} + l_{3} \\cos{\\left(\\theta_{2} + \\theta_{3} \\right)}\\right) \\sin{\\left(\\theta_{1} \\right)}\\\\\\sin{\\left(\\theta_{2} + \\theta_{3} \\right)} & \\cos{\\left(\\theta_{2} + \\theta_{3} \\right)} & 0 & l_{1} + l_{2} \\sin{\\left(\\theta_{2} \\right)} + l_{3} \\sin{\\left(\\theta_{2} + \\theta_{3} \\right)}\\\\0 & 0 & 0 & 1\\end{matrix}\\right]$"
          },
          "metadata": {},
          "execution_count": 83
        }
      ],
      "source": [
        "H = simplify(_0H1@_1H2@_2H3@_3H4@_4H5@_5H6@_6H7)\n",
        "H"
      ]
    },
    {
      "cell_type": "markdown",
      "id": "2df636c5",
      "metadata": {
        "id": "2df636c5"
      },
      "source": [
        "Esta será la posición final de la muñeca en función de theta1, theta2, theta3, l1, l2 y l3"
      ]
    },
    {
      "cell_type": "code",
      "execution_count": 84,
      "id": "4f198ace",
      "metadata": {
        "colab": {
          "base_uri": "https://localhost:8080/",
          "height": 78
        },
        "id": "4f198ace",
        "outputId": "5f05e935-356c-477b-8b9c-b5badef53f6a"
      },
      "outputs": [
        {
          "output_type": "execute_result",
          "data": {
            "text/plain": [
              "⎡(l₂⋅cos(θ₂) + l₃⋅cos(θ₂ + θ₃))⋅cos(θ₁)⎤\n",
              "⎢                                      ⎥\n",
              "⎢(l₂⋅cos(θ₂) + l₃⋅cos(θ₂ + θ₃))⋅sin(θ₁)⎥\n",
              "⎢                                      ⎥\n",
              "⎣  l₁ + l₂⋅sin(θ₂) + l₃⋅sin(θ₂ + θ₃)   ⎦"
            ],
            "text/latex": "$\\displaystyle \\left[\\begin{matrix}\\left(l_{2} \\cos{\\left(\\theta_{2} \\right)} + l_{3} \\cos{\\left(\\theta_{2} + \\theta_{3} \\right)}\\right) \\cos{\\left(\\theta_{1} \\right)}\\\\\\left(l_{2} \\cos{\\left(\\theta_{2} \\right)} + l_{3} \\cos{\\left(\\theta_{2} + \\theta_{3} \\right)}\\right) \\sin{\\left(\\theta_{1} \\right)}\\\\l_{1} + l_{2} \\sin{\\left(\\theta_{2} \\right)} + l_{3} \\sin{\\left(\\theta_{2} + \\theta_{3} \\right)}\\end{matrix}\\right]$"
          },
          "metadata": {},
          "execution_count": 84
        }
      ],
      "source": [
        "P = H[0:3, 3]\n",
        "P"
      ]
    },
    {
      "cell_type": "markdown",
      "id": "3b979bc4",
      "metadata": {
        "id": "3b979bc4"
      },
      "source": [
        "Y esta será la orientación final de la muñeca en función theta1, theta2, theta3, l1, l2 y l3"
      ]
    },
    {
      "cell_type": "code",
      "execution_count": 85,
      "id": "eb8451af",
      "metadata": {
        "colab": {
          "base_uri": "https://localhost:8080/",
          "height": 78
        },
        "id": "eb8451af",
        "outputId": "e6334e0a-80ed-4180-870e-18afb5a11b46"
      },
      "outputs": [
        {
          "output_type": "execute_result",
          "data": {
            "text/plain": [
              "⎡cos(θ₁)⋅cos(θ₂ + θ₃)  -sin(θ₂ + θ₃)⋅cos(θ₁)  sin(θ₁) ⎤\n",
              "⎢                                                     ⎥\n",
              "⎢sin(θ₁)⋅cos(θ₂ + θ₃)  -sin(θ₁)⋅sin(θ₂ + θ₃)  -cos(θ₁)⎥\n",
              "⎢                                                     ⎥\n",
              "⎣    sin(θ₂ + θ₃)          cos(θ₂ + θ₃)          0    ⎦"
            ],
            "text/latex": "$\\displaystyle \\left[\\begin{matrix}\\cos{\\left(\\theta_{1} \\right)} \\cos{\\left(\\theta_{2} + \\theta_{3} \\right)} & - \\sin{\\left(\\theta_{2} + \\theta_{3} \\right)} \\cos{\\left(\\theta_{1} \\right)} & \\sin{\\left(\\theta_{1} \\right)}\\\\\\sin{\\left(\\theta_{1} \\right)} \\cos{\\left(\\theta_{2} + \\theta_{3} \\right)} & - \\sin{\\left(\\theta_{1} \\right)} \\sin{\\left(\\theta_{2} + \\theta_{3} \\right)} & - \\cos{\\left(\\theta_{1} \\right)}\\\\\\sin{\\left(\\theta_{2} + \\theta_{3} \\right)} & \\cos{\\left(\\theta_{2} + \\theta_{3} \\right)} & 0\\end{matrix}\\right]$"
          },
          "metadata": {},
          "execution_count": 85
        }
      ],
      "source": [
        "R = H[0:3, 0:3]\n",
        "R"
      ]
    },
    {
      "cell_type": "markdown",
      "id": "88430ca1",
      "metadata": {
        "id": "88430ca1"
      },
      "source": [
        "## Taller\n",
        "\n",
        "Suponga un manipulador robotico con 3 grados de libertad. El brazo mide 40cm y el ante brazo mide 50cm. Los angulos de rotación no tienen restricciones. Suponga que la muñeca puede agarrar cualquier objeto que se encuentre a menos de 5cm de ella.\n",
        "\n",
        "* Determine al menos 2 configuraciones de theta1, theta2 y theta3 que permitan alcanzar un objeto en la posición x=45, y=36, z=22. Utilice fuerza bruta para ello o cualquier estrategia objetiva para conseguirlo.\n",
        "\n",
        "## Calificación\n",
        "\n",
        "Los tres grupos con el mejor avance antes de finalizar la clase tendrá puntos extras en la calificación del corte, así:\n",
        "\n",
        "* Mejor avance --> 0.3\n",
        "* Segundo mejor avance --> 0.2\n",
        "* Tercer mejor avance --> 0.1"
      ]
    },
    {
      "cell_type": "code",
      "source": [
        "# Convertimos P a una función numérica\n",
        "f_pos = lambdify((theta_1, theta_2, theta_3, l_1, l_2, l_3), P, modules='numpy')"
      ],
      "metadata": {
        "id": "isrHNOrTNmdp"
      },
      "id": "isrHNOrTNmdp",
      "execution_count": 86,
      "outputs": []
    },
    {
      "cell_type": "markdown",
      "source": [
        "Datos entregados para el taller.\n",
        "\n",
        "\n",
        "Datos del problema:\n",
        "\n",
        "Longitud del brazo (l1): 40 cm\n",
        "\n",
        "Longitud del antebrazo (l2): 50 cm\n",
        "\n",
        "Longitud desde la muñeca hasta el efector (l3): 50 cm\n",
        "\n",
        "Coordenadas objetivo:\n",
        "(x,y,z)=(45,36,22)"
      ],
      "metadata": {
        "id": "W7TDcwd0Nq4v"
      },
      "id": "W7TDcwd0Nq4v"
    },
    {
      "cell_type": "code",
      "source": [
        "# Longitudes dadas\n",
        "l1_val = 40\n",
        "l2_val = 50\n",
        "l3_val = 50"
      ],
      "metadata": {
        "id": "8HJs9bQvOJz1"
      },
      "id": "8HJs9bQvOJz1",
      "execution_count": 105,
      "outputs": []
    },
    {
      "cell_type": "markdown",
      "source": [
        "Objetivos a alcanzar"
      ],
      "metadata": {
        "id": "_PAhkaBFORki"
      },
      "id": "_PAhkaBFORki"
    },
    {
      "cell_type": "code",
      "source": [
        "# Punto objetivo\n",
        "target = np.array([45, 36, 22])\n",
        "threshold = 5  #5cm"
      ],
      "metadata": {
        "id": "9VRpCTnpOUvp"
      },
      "id": "9VRpCTnpOUvp",
      "execution_count": 106,
      "outputs": []
    },
    {
      "cell_type": "markdown",
      "source": [
        "Rango de angulos en radianes"
      ],
      "metadata": {
        "id": "ysx6n_0jOykt"
      },
      "id": "ysx6n_0jOykt"
    },
    {
      "cell_type": "code",
      "source": [
        "angle_range = np.radians(np.arange(-180, 181, 10))\n",
        "solutions = []\n",
        "print(angle_range)"
      ],
      "metadata": {
        "colab": {
          "base_uri": "https://localhost:8080/"
        },
        "id": "QiMr52zRO1Vl",
        "outputId": "310e0057-1689-44b0-fb27-196349a31002"
      },
      "id": "QiMr52zRO1Vl",
      "execution_count": 107,
      "outputs": [
        {
          "output_type": "stream",
          "name": "stdout",
          "text": [
            "[-3.14159265 -2.96705973 -2.7925268  -2.61799388 -2.44346095 -2.26892803\n",
            " -2.0943951  -1.91986218 -1.74532925 -1.57079633 -1.3962634  -1.22173048\n",
            " -1.04719755 -0.87266463 -0.6981317  -0.52359878 -0.34906585 -0.17453293\n",
            "  0.          0.17453293  0.34906585  0.52359878  0.6981317   0.87266463\n",
            "  1.04719755  1.22173048  1.3962634   1.57079633  1.74532925  1.91986218\n",
            "  2.0943951   2.26892803  2.44346095  2.61799388  2.7925268   2.96705973\n",
            "  3.14159265]\n"
          ]
        }
      ]
    },
    {
      "cell_type": "markdown",
      "source": [
        "Aplicar fuerza bruta a traves de ciclos"
      ],
      "metadata": {
        "id": "__xFEkpeO59z"
      },
      "id": "__xFEkpeO59z"
    },
    {
      "cell_type": "code",
      "source": [
        "# Fuerza bruta sobre los 3 ángulos\n",
        "for t1 in angle_range:\n",
        "    for t2 in angle_range:\n",
        "        for t3 in angle_range:\n",
        "            pos = np.array(f_pos(t1, t2, t3, l1_val, l2_val, l3_val)).astype(np.float64).flatten()\n",
        "            dist = np.linalg.norm(pos - target)\n",
        "            if dist < 10:  # Mostrar si se acerca\n",
        "                print(f\"Intentando en: θ1={np.degrees(t1):.1f}°, θ2={np.degrees(t2):.1f}°, θ3={np.degrees(t3):.1f}° -> Dist={dist:.2f}\")\n",
        "            if dist <= threshold:\n",
        "                solutions.append((np.degrees(t1), np.degrees(t2), np.degrees(t3), pos, dist))\n",
        "                if len(solutions) >= 2:\n",
        "                    break\n",
        "        if len(solutions) >= 2:\n",
        "            break\n",
        "    if len(solutions) >= 2:\n",
        "        break\n",
        "\n",
        "# Mostrar soluciones\n",
        "print(\"Soluciones encontradas:\")\n",
        "for i, (t1_deg, t2_deg, t3_deg, pos, dist) in enumerate(solutions, 1):\n",
        "    print(f\"Solución #{i}:\")\n",
        "    print(f\"  θ1 = {t1_deg:.2f}°, θ2 = {t2_deg:.2f}°, θ3 = {t3_deg:.2f}°\")\n",
        "    print(f\"  Posición alcanzada: x={pos[0]:.2f}, y={pos[1]:.2f}, z={pos[2]:.2f}\")\n",
        "    print(f\"  Distancia al objetivo: {dist:.2f} cm\\n\")"
      ],
      "metadata": {
        "colab": {
          "base_uri": "https://localhost:8080/"
        },
        "id": "cu1i7d1pPDS8",
        "outputId": "30dd7e0c-bcd0-4e0a-aa1a-b5b5ce027cce"
      },
      "id": "cu1i7d1pPDS8",
      "execution_count": 108,
      "outputs": [
        {
          "output_type": "stream",
          "name": "stdout",
          "text": [
            "Intentando en: θ1=-150.0°, θ2=-110.0°, θ3=-110.0° -> Dist=9.36\n",
            "Intentando en: θ1=-150.0°, θ2=140.0°, θ3=110.0° -> Dist=9.36\n",
            "Intentando en: θ1=-140.0°, θ2=-120.0°, θ3=-100.0° -> Dist=9.00\n",
            "Intentando en: θ1=-140.0°, θ2=-110.0°, θ3=-110.0° -> Dist=4.08\n",
            "Intentando en: θ1=-140.0°, θ2=-110.0°, θ3=-100.0° -> Dist=5.05\n",
            "Intentando en: θ1=-140.0°, θ2=-100.0°, θ3=-110.0° -> Dist=8.51\n",
            "Intentando en: θ1=-140.0°, θ2=140.0°, θ3=100.0° -> Dist=9.00\n",
            "Intentando en: θ1=-140.0°, θ2=140.0°, θ3=110.0° -> Dist=4.08\n",
            "Soluciones encontradas:\n",
            "Solución #1:\n",
            "  θ1 = -140.00°, θ2 = -110.00°, θ3 = -110.00°\n",
            "  Posición alcanzada: x=42.44, y=35.61, z=25.15\n",
            "  Distancia al objetivo: 4.08 cm\n",
            "\n",
            "Solución #2:\n",
            "  θ1 = -140.00°, θ2 = 140.00°, θ3 = 110.00°\n",
            "  Posición alcanzada: x=42.44, y=35.61, z=25.15\n",
            "  Distancia al objetivo: 4.08 cm\n",
            "\n"
          ]
        }
      ]
    }
  ],
  "metadata": {
    "kernelspec": {
      "display_name": "Python 3 (ipykernel)",
      "language": "python",
      "name": "python3"
    },
    "language_info": {
      "codemirror_mode": {
        "name": "ipython",
        "version": 3
      },
      "file_extension": ".py",
      "mimetype": "text/x-python",
      "name": "python",
      "nbconvert_exporter": "python",
      "pygments_lexer": "ipython3",
      "version": "3.10.12"
    },
    "colab": {
      "provenance": []
    }
  },
  "nbformat": 4,
  "nbformat_minor": 5
}